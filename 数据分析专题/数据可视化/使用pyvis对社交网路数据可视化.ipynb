{
 "cells": [
  {
   "cell_type": "code",
   "execution_count": 1,
   "id": "abf91a71",
   "metadata": {},
   "outputs": [
    {
     "name": "stdout",
     "output_type": "stream",
     "text": [
      "Collecting pyvis\n",
      "  Downloading pyvis-0.2.0.tar.gz (21 kB)\n",
      "Requirement already satisfied: jinja2>=2.9.6 in d:\\software\\anaconda\\envs\\data_analysis\\lib\\site-packages (from pyvis) (3.0.2)\n",
      "Requirement already satisfied: networkx>=1.11 in d:\\software\\anaconda\\envs\\data_analysis\\lib\\site-packages (from pyvis) (2.6.3)\n",
      "Requirement already satisfied: ipython>=5.3.0 in d:\\software\\anaconda\\envs\\data_analysis\\lib\\site-packages (from pyvis) (7.29.0)\n",
      "Collecting jsonpickle>=1.4.1\n",
      "  Downloading jsonpickle-2.1.0-py2.py3-none-any.whl (38 kB)\n",
      "Requirement already satisfied: colorama in d:\\software\\anaconda\\envs\\data_analysis\\lib\\site-packages (from ipython>=5.3.0->pyvis) (0.4.4)\n",
      "Requirement already satisfied: matplotlib-inline in d:\\software\\anaconda\\envs\\data_analysis\\lib\\site-packages (from ipython>=5.3.0->pyvis) (0.1.2)\n",
      "Requirement already satisfied: setuptools>=18.5 in c:\\users\\orange\\appdata\\roaming\\python\\python37\\site-packages (from ipython>=5.3.0->pyvis) (49.6.0)\n",
      "Requirement already satisfied: pygments in d:\\software\\anaconda\\envs\\data_analysis\\lib\\site-packages (from ipython>=5.3.0->pyvis) (2.10.0)\n",
      "Requirement already satisfied: decorator in d:\\software\\anaconda\\envs\\data_analysis\\lib\\site-packages (from ipython>=5.3.0->pyvis) (5.1.0)\n",
      "Requirement already satisfied: pickleshare in d:\\software\\anaconda\\envs\\data_analysis\\lib\\site-packages (from ipython>=5.3.0->pyvis) (0.7.5)\n",
      "Requirement already satisfied: traitlets>=4.2 in d:\\software\\anaconda\\envs\\data_analysis\\lib\\site-packages (from ipython>=5.3.0->pyvis) (5.1.1)\n",
      "Requirement already satisfied: backcall in d:\\software\\anaconda\\envs\\data_analysis\\lib\\site-packages (from ipython>=5.3.0->pyvis) (0.2.0)\n",
      "Requirement already satisfied: prompt-toolkit!=3.0.0,!=3.0.1,<3.1.0,>=2.0.0 in d:\\software\\anaconda\\envs\\data_analysis\\lib\\site-packages (from ipython>=5.3.0->pyvis) (3.0.20)\n",
      "Requirement already satisfied: jedi>=0.16 in d:\\software\\anaconda\\envs\\data_analysis\\lib\\site-packages (from ipython>=5.3.0->pyvis) (0.18.0)\n",
      "Requirement already satisfied: parso<0.9.0,>=0.8.0 in d:\\software\\anaconda\\envs\\data_analysis\\lib\\site-packages (from jedi>=0.16->ipython>=5.3.0->pyvis) (0.8.2)\n",
      "Requirement already satisfied: MarkupSafe>=2.0 in d:\\software\\anaconda\\envs\\data_analysis\\lib\\site-packages (from jinja2>=2.9.6->pyvis) (2.0.1)\n",
      "Requirement already satisfied: importlib-metadata in c:\\users\\orange\\appdata\\roaming\\python\\python37\\site-packages (from jsonpickle>=1.4.1->pyvis) (1.7.0)\n",
      "Requirement already satisfied: wcwidth in d:\\software\\anaconda\\envs\\data_analysis\\lib\\site-packages (from prompt-toolkit!=3.0.0,!=3.0.1,<3.1.0,>=2.0.0->ipython>=5.3.0->pyvis) (0.2.5)\n",
      "Requirement already satisfied: zipp>=0.5 in c:\\users\\orange\\appdata\\roaming\\python\\python37\\site-packages (from importlib-metadata->jsonpickle>=1.4.1->pyvis) (3.1.0)\n",
      "Building wheels for collected packages: pyvis\n",
      "  Building wheel for pyvis (setup.py): started\n",
      "  Building wheel for pyvis (setup.py): finished with status 'done'\n",
      "  Created wheel for pyvis: filename=pyvis-0.2.0-py3-none-any.whl size=23658 sha256=62070716b5b89c8c24536abf6aee8059a3584717d6f2a90cd0401f338f09f178\n",
      "  Stored in directory: c:\\users\\orange\\appdata\\local\\pip\\cache\\wheels\\74\\ed\\a1\\9441bf0a9e35efc8351ea92cb62c71c2a604a027b890f970c4\n",
      "Successfully built pyvis\n",
      "Installing collected packages: jsonpickle, pyvis\n",
      "Successfully installed jsonpickle-2.1.0 pyvis-0.2.0\n"
     ]
    },
    {
     "name": "stderr",
     "output_type": "stream",
     "text": [
      "  WARNING: Retrying (Retry(total=4, connect=None, read=None, redirect=None, status=None)) after connection broken by 'ReadTimeoutError(\"HTTPSConnectionPool(host='files.pythonhosted.org', port=443): Read timed out. (read timeout=15)\")': /packages/ca/30/7849560087100139664dda53e07ace06e77adfe69a4faae5bc160dd302ad/pyvis-0.2.0.tar.gz\n"
     ]
    }
   ],
   "source": [
    "!pip install pyvis"
   ]
  },
  {
   "cell_type": "code",
   "execution_count": 3,
   "id": "84e48198",
   "metadata": {},
   "outputs": [],
   "source": [
    "from pyvis.network import Network"
   ]
  },
  {
   "cell_type": "code",
   "execution_count": 4,
   "id": "60c6cf98",
   "metadata": {},
   "outputs": [],
   "source": [
    "net = Network()\n",
    "# 添加单个节点\n",
    "net.add_node(1, label='Node 1')\n",
    "net.add_node(2, label='Node 2')"
   ]
  },
  {
   "cell_type": "code",
   "execution_count": 5,
   "id": "7033a40b",
   "metadata": {},
   "outputs": [],
   "source": [
    "# 注意这里是添加多个节点，使用add_nodes\n",
    "# 属性值传入的是列表，要保证列表长度与节点列表长度一致\n",
    "net.add_nodes([3,4,5], \n",
    "              value=[10,20,30],\n",
    "              title=[\"I am node 3\", \"node 4 here\", \"and im node 5\"], \n",
    "              x=[21.4, 54.2, 11.2], \n",
    "              y=[100.2, 23.54, 32.1],\n",
    "              label=[\"NODE 3\", \"NODE 4\", \"NODE 5\"], \n",
    "              color=[\"#00ff1e\", \"#162347\", \"#dd4b39\"])\n",
    "\n",
    "# 显示，输出为demo1.html\n",
    "net.show('demo1.html')"
   ]
  },
  {
   "cell_type": "code",
   "execution_count": 6,
   "id": "65000067",
   "metadata": {},
   "outputs": [],
   "source": [
    "# 一次添加一条边\n",
    "net.add_edge(1, 2)\n",
    "net.add_edge(1, 3)\n",
    "net.add_edge(1, 4)\n",
    "\n",
    "# 有权重边\n",
    "net.add_edge(2, 1, wright=0.87)\n",
    "\n",
    "# 显示，输出为demo1.html\n",
    "net.show('demo1.html')"
   ]
  },
  {
   "cell_type": "code",
   "execution_count": 7,
   "id": "3e57b517",
   "metadata": {},
   "outputs": [],
   "source": [
    "from pyvis.network import Network\n",
    "import networkx as nx\n",
    "\n",
    "# 生成5个节点，每个点与其他所有点相互联系\n",
    "nxg = nx.complete_graph(5)\n",
    "G = Network()\n",
    "G.from_nx(nxg)\n",
    "\n",
    "# 输出并生成demo2.html\n",
    "G.show('demo2.html')"
   ]
  },
  {
   "cell_type": "code",
   "execution_count": 10,
   "id": "f20210cc",
   "metadata": {},
   "outputs": [],
   "source": [
    "nxg = nx.complete_graph(5)\n",
    "G = Network()\n",
    "G.from_nx(nxg)\n",
    "\n",
    "#可对打开的html进行调整\n",
    "G.show_buttons(filter_=['physics'])\n",
    "G.show('demo3.html')"
   ]
  },
  {
   "cell_type": "code",
   "execution_count": 12,
   "id": "efc5db83",
   "metadata": {},
   "outputs": [
    {
     "data": {
      "text/html": [
       "\n",
       "        <iframe\n",
       "            width=\"500px\"\n",
       "            height=\"500px\"\n",
       "            src=\"example.html\"\n",
       "            frameborder=\"0\"\n",
       "            allowfullscreen\n",
       "            \n",
       "        ></iframe>\n",
       "        "
      ],
      "text/plain": [
       "<IPython.lib.display.IFrame at 0x2567e9922c8>"
      ]
     },
     "execution_count": 12,
     "metadata": {},
     "output_type": "execute_result"
    }
   ],
   "source": [
    "#pyvis可在Jupyter中渲染\n",
    "from pyvis.network import Network\n",
    "import networkx as nx\n",
    "\n",
    "G = Network(notebook=True)\n",
    "nxg = nx.complete_graph(10)\n",
    "G.from_nx(nxg)\n",
    "G.show('example.html')"
   ]
  },
  {
   "cell_type": "code",
   "execution_count": null,
   "id": "aa3bc01e",
   "metadata": {},
   "outputs": [],
   "source": []
  },
  {
   "cell_type": "code",
   "execution_count": null,
   "id": "cb292f8f",
   "metadata": {},
   "outputs": [],
   "source": []
  }
 ],
 "metadata": {
  "kernelspec": {
   "display_name": "Python [conda env:data_analysis]",
   "language": "python",
   "name": "conda-env-data_analysis-py"
  },
  "language_info": {
   "codemirror_mode": {
    "name": "ipython",
    "version": 3
   },
   "file_extension": ".py",
   "mimetype": "text/x-python",
   "name": "python",
   "nbconvert_exporter": "python",
   "pygments_lexer": "ipython3",
   "version": "3.7.10"
  }
 },
 "nbformat": 4,
 "nbformat_minor": 5
}
